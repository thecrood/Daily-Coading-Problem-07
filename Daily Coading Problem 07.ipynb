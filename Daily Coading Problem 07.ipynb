{
 "cells": [
  {
   "cell_type": "markdown",
   "id": "df23b344",
   "metadata": {},
   "source": [
    "# Daily Coading Problem 07"
   ]
  },
  {
   "cell_type": "markdown",
   "id": "1b453bd6",
   "metadata": {},
   "source": [
    "This problem was asked by Facebook.\n",
    "\n",
    "Given the mapping a = 1, b = 2, ... z = 26, and an encoded message, count the number of ways it can be decoded.\n",
    "\n",
    "For example, the message '111' would give 3, since it could be decoded as 'aaa', 'ka', and 'ak'.\n",
    "\n",
    "You can assume that the messages are decodable. For example, '001' is not allowed."
   ]
  },
  {
   "cell_type": "markdown",
   "id": "2e5364f9",
   "metadata": {},
   "source": [
    "# Solution"
   ]
  },
  {
   "cell_type": "raw",
   "id": "2dd45dc1",
   "metadata": {},
   "source": [
    "This looks like a problem that is ripe for solving with recursion. First, let's try to think of a recurrence we can use for this problem. We can try some cases:\n",
    "\n",
    "\"3\" should return 1, since we can parse it only as \"c\".\n",
    "\"\", the empty string and our base case, should return 1.\n",
    "So what if you've been given more complex inputs for example:\n",
    "\n",
    "Let's decode \"12345\" from left to right sequentially. Immediately we understand that they exist two choices:\n",
    "\n",
    "Decode the first digit \"1\" and then the remaining string \"2345\" or\n",
    "Decode the first two digits \"12\" and then the remaining string \"345\"\n",
    "So decode(\"12345\") is equivalent of decoding decode(\"2345\")+decode(\"345\").So,\n",
    "\n",
    "decode(\"12345\") = decode(\"2345\") + decode(\"345\")\n",
    "\n",
    "In other words,  the number of ways of decoding the message \"12345\" is equal to the sum of the number of ways we can decode \"2345\" and the number of ways we can decode \"345\".\n",
    "\n",
    "However, when decoding \"27345\" using the same methodology we notice a different behaviour:\n",
    "\n",
    "Decode the first digit \"2\" and then the remaining string \"7345\" or\n",
    "Decode the first two digits \"27\" and.. but wait a minute this is not possible as the last letter z maps to 26.\n",
    "Thus, the number of ways of decoding the message \"27345\" is equal only to the sum of the number of ways we can decode \"7345\".\n",
    "\n",
    "decode(\"27345\") = decode(\"7345\")\n",
    "\n",
    "Finally, decoding \"011\" should return 0, since no letter starts with 0 in our mapping.  \"602\" should also return 0 for similar reasons.\n",
    "\n",
    "We have a good starting point. We can see that the recursive structure is as follows:\n",
    "\n",
    "If string starts with zero, then there's no valid encoding.\n",
    "If the string's length is less than or equal to 1, there is only 1 encoding.\n",
    "If the first two digits form a number k that is less than or equal to 26, we can recursively count the number of encodings assuming we pick k as a letter.\n",
    "We can also pick the first digit as a letter and count the number of encodings with this assumption."
   ]
  },
  {
   "cell_type": "code",
   "execution_count": 73,
   "id": "2fbf1dc7",
   "metadata": {},
   "outputs": [
    {
     "name": "stdout",
     "output_type": "stream",
     "text": [
      "Enter String: 3314\n",
      "No of Ways: 2\n"
     ]
    }
   ],
   "source": [
    "s = (input('Enter String: '))\n",
    "\n",
    "def num_ways(s):\n",
    "    if s.startswith('0'):\n",
    "        return 0\n",
    "    elif len(s)<=1:\n",
    "        return 1\n",
    "    result = num_ways(s[1:])\n",
    "    if int(s[:2]) <= 26:\n",
    "        result += num_ways(s[2:])\n",
    "    return result\n",
    "\n",
    "print('No of Ways:',num_ways(s))"
   ]
  },
  {
   "cell_type": "raw",
   "id": "5c26fab9",
   "metadata": {},
   "source": [
    "However, this solution is not very efficient. Every branch calls itself recursively twice, so our runtime is O(2n).  \n",
    "Obviously, this is not the most efficient approach because we repeat some of the computations over and over again.\n",
    "\n",
    "We can do better by using dynamic programming and memoization.\n",
    "\n",
    "All the following code does is repeat the same computation as above except now we store the computation in a list whose length is the original string length plus one (initialising it with Null values) starting from the base case and building up the solution. We now passing this list as argument. Since each iteration takes O(1), the whole algorithm now takes O(n)."
   ]
  },
  {
   "cell_type": "code",
   "execution_count": 69,
   "id": "5b9c545e",
   "metadata": {},
   "outputs": [
    {
     "name": "stdout",
     "output_type": "stream",
     "text": [
      "Enter String: 111\n",
      "No of Ways: 3\n"
     ]
    }
   ],
   "source": [
    "s = (input('Enter String: '))\n",
    "\n",
    "def num_ways(s,memo):\n",
    "    if s.startswith('0'):\n",
    "        return 0\n",
    "    elif len(s)<=1:\n",
    "        return 1\n",
    "    if memo[len(s)] != None:\n",
    "        return memo[len(s)]\n",
    "    result = num_ways(s[1:],memo)\n",
    "    if int(s[:2]) <= 26:\n",
    "        result += num_ways(s[2:],memo)\n",
    "    memo[len(s)]=result\n",
    "    return result\n",
    "\n",
    "print('No of Ways:',num_ways(s,[None]*(len(s)+1)))"
   ]
  }
 ],
 "metadata": {
  "kernelspec": {
   "display_name": "Python 3 (ipykernel)",
   "language": "python",
   "name": "python3"
  },
  "language_info": {
   "codemirror_mode": {
    "name": "ipython",
    "version": 3
   },
   "file_extension": ".py",
   "mimetype": "text/x-python",
   "name": "python",
   "nbconvert_exporter": "python",
   "pygments_lexer": "ipython3",
   "version": "3.8.10"
  }
 },
 "nbformat": 4,
 "nbformat_minor": 5
}
